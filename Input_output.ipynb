{
 "cells": [
  {
   "cell_type": "code",
   "execution_count": 3,
   "id": "7ae35b2d-50e2-4947-9327-9c7b47a7b2e9",
   "metadata": {},
   "outputs": [
    {
     "name": "stdout",
     "output_type": "stream",
     "text": [
      "odd\n"
     ]
    }
   ],
   "source": [
    "def odd_even(num):\n",
    "    if(num%2==0):\n",
    "        print(\"even\")\n",
    "    else:\n",
    "        print(\"odd\")\n",
    "odd_even(3)\n"
   ]
  },
  {
   "cell_type": "code",
   "execution_count": 4,
   "id": "24097d56-113a-4810-803b-d34441efe606",
   "metadata": {},
   "outputs": [],
   "source": [
    "def print_sum(num):\n",
    "    sum=0\n",
    "    sum=sum +num\n",
    "    \n",
    "    "
   ]
  },
  {
   "cell_type": "code",
   "execution_count": 9,
   "id": "f1cf948a-a12c-481d-850c-b7f1fd109f35",
   "metadata": {},
   "outputs": [
    {
     "name": "stdout",
     "output_type": "stream",
     "text": [
      "hi we are learning python\n",
      "i loke programming in python\n"
     ]
    },
    {
     "data": {
      "text/plain": [
       "54"
      ]
     },
     "execution_count": 9,
     "metadata": {},
     "output_type": "execute_result"
    }
   ],
   "source": [
    "f=open(\"practice.txt\",\"r\")\n",
    "data=f.read()\n",
    "newdata=data.replace(\"java\",\"python\")\n",
    "print(newdata)\n",
    "f.close()\n",
    "f=open(\"practice.txt\",\"w\")\n",
    "f.write(newdata)"
   ]
  },
  {
   "cell_type": "code",
   "execution_count": null,
   "id": "d22e0f85-432f-44bc-8222-8ba5c1493ed0",
   "metadata": {},
   "outputs": [],
   "source": []
  }
 ],
 "metadata": {
  "kernelspec": {
   "display_name": "Python 3 (ipykernel)",
   "language": "python",
   "name": "python3"
  },
  "language_info": {
   "codemirror_mode": {
    "name": "ipython",
    "version": 3
   },
   "file_extension": ".py",
   "mimetype": "text/x-python",
   "name": "python",
   "nbconvert_exporter": "python",
   "pygments_lexer": "ipython3",
   "version": "3.11.7"
  }
 },
 "nbformat": 4,
 "nbformat_minor": 5
}
