{
 "cells": [
  {
   "cell_type": "code",
   "execution_count": 1,
   "id": "6f7c57de-d2ac-448c-8ef7-bb55b639755d",
   "metadata": {},
   "outputs": [
    {
     "ename": "ModuleNotFoundError",
     "evalue": "No module named 'qrcode'",
     "output_type": "error",
     "traceback": [
      "\u001b[1;31m---------------------------------------------------------------------------\u001b[0m",
      "\u001b[1;31mModuleNotFoundError\u001b[0m                       Traceback (most recent call last)",
      "Cell \u001b[1;32mIn[1], line 1\u001b[0m\n\u001b[1;32m----> 1\u001b[0m \u001b[38;5;28;01mimport\u001b[39;00m \u001b[38;5;21;01mqrcode\u001b[39;00m\n",
      "\u001b[1;31mModuleNotFoundError\u001b[0m: No module named 'qrcode'"
     ]
    }
   ],
   "source": [
    "import qrcode"
   ]
  },
  {
   "cell_type": "code",
   "execution_count": 2,
   "id": "08e06f99-cc27-41ee-9b09-0bf789a69efe",
   "metadata": {},
   "outputs": [
    {
     "name": "stdout",
     "output_type": "stream",
     "text": [
      "Collecting qrcode\n",
      "  Downloading qrcode-7.4.2-py3-none-any.whl.metadata (17 kB)\n",
      "Requirement already satisfied: typing-extensions in c:\\users\\codeu\\anaconda3\\lib\\site-packages (from qrcode) (4.9.0)\n",
      "Collecting pypng (from qrcode)\n",
      "  Downloading pypng-0.20220715.0-py3-none-any.whl.metadata (13 kB)\n",
      "Requirement already satisfied: colorama in c:\\users\\codeu\\anaconda3\\lib\\site-packages (from qrcode) (0.4.6)\n",
      "Downloading qrcode-7.4.2-py3-none-any.whl (46 kB)\n",
      "   ---------------------------------------- 0.0/46.2 kB ? eta -:--:--\n",
      "   -------- ------------------------------- 10.2/46.2 kB ? eta -:--:--\n",
      "   ----------------------------------- ---- 41.0/46.2 kB 487.6 kB/s eta 0:00:01\n",
      "   ---------------------------------------- 46.2/46.2 kB 382.5 kB/s eta 0:00:00\n",
      "Downloading pypng-0.20220715.0-py3-none-any.whl (58 kB)\n",
      "   ---------------------------------------- 0.0/58.1 kB ? eta -:--:--\n",
      "   ---------------------------------------- 58.1/58.1 kB 1.5 MB/s eta 0:00:00\n",
      "Installing collected packages: pypng, qrcode\n",
      "Successfully installed pypng-0.20220715.0 qrcode-7.4.2\n"
     ]
    }
   ],
   "source": [
    "!pip install qrcode"
   ]
  },
  {
   "cell_type": "code",
   "execution_count": 4,
   "id": "b9f9b93b-5572-47fc-b989-76c69d56845c",
   "metadata": {},
   "outputs": [],
   "source": [
    "import qrcode as qr"
   ]
  },
  {
   "cell_type": "code",
   "execution_count": 5,
   "id": "6e59efc5-0562-4f44-b5af-448d1bcbaf1d",
   "metadata": {},
   "outputs": [],
   "source": [
    "img=qr.make(\"https://www.youtube.com/watch?v=FOGRHBp6lvM&list=PLjVLYmrlmjGfAUdLiF2bQ-0l8SwNZ1sBl\")\n",
    "img.save(\"Wscube_youtube.png\")"
   ]
  },
  {
   "cell_type": "code",
   "execution_count": null,
   "id": "e999234c-9098-47ff-b58b-2030fcd11ea5",
   "metadata": {},
   "outputs": [],
   "source": []
  },
  {
   "cell_type": "code",
   "execution_count": null,
   "id": "52f26732-c8ec-4e75-9192-0798bf66021a",
   "metadata": {},
   "outputs": [],
   "source": []
  }
 ],
 "metadata": {
  "kernelspec": {
   "display_name": "Python 3 (ipykernel)",
   "language": "python",
   "name": "python3"
  },
  "language_info": {
   "codemirror_mode": {
    "name": "ipython",
    "version": 3
   },
   "file_extension": ".py",
   "mimetype": "text/x-python",
   "name": "python",
   "nbconvert_exporter": "python",
   "pygments_lexer": "ipython3",
   "version": "3.11.7"
  }
 },
 "nbformat": 4,
 "nbformat_minor": 5
}
